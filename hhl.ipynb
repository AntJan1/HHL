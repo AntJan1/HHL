{
 "cells": [
  {
   "cell_type": "code",
   "execution_count": null,
   "id": "18076cc1",
   "metadata": {},
   "outputs": [],
   "source": [
    "import numpy as np\n",
    "from qiskit import QuantumCircuit, execute, Aer, IBMQ\n",
    "from qiskit.compiler import transpile, assemble\n",
    "from qiskit.tools.jupyter import *\n",
    "from qiskit.visualization import *\n",
    "pi=np.pi"
   ]
  },
  {
   "cell_type": "code",
   "execution_count": null,
   "id": "61eb4092",
   "metadata": {},
   "outputs": [],
   "source": [
    "circ = QuantumCircuit(4,2)\n",
    "circ.x(3)\n",
    "circ.barrier()\n",
    "circ.h(1)\n",
    "circ.h(2)\n",
    "circ.barrier()\n",
    "circ.cu(pi/2, -pi/2, pi/2, 3*pi/4, 1, 3)\n",
    "circ.cu(pi, pi, 0, 0, 2 ,3)\n",
    "circ.barrier()\n",
    "circ.h(2)\n",
    "circ.cp(-pi/2,1,2)\n",
    "circ.h(1)\n",
    "circ.swap(1,2)\n",
    "circ.barrier()\n",
    "circ.cry(pi,1,0)\n",
    "circ.cry(pi/3,2,0)\n",
    "circ.barrier()\n",
    "#circ.measure(0,0)\n",
    "circ.barrier()\n",
    "circ.swap(1,2)\n",
    "circ.h(1)\n",
    "circ.cp(pi/2,2,1)\n",
    "circ.h(2)\n",
    "circ.barrier()\n",
    "circ.cu(pi, pi, 0, 0, 2 ,3)\n",
    "circ.cu(pi/2, pi/2, -pi/2, -3*pi/4, 1, 3)\n",
    "circ.barrier()\n",
    "circ.h(1)\n",
    "circ.h(2)\n",
    "circ.barrier()\n",
    "#circ.measure(3,1)\n",
    "from qiskit import BasicAer\n",
    "backend = BasicAer.get_backend('statevector_simulator')\n",
    "from qiskit.execute_function import execute\n",
    "\n",
    "job = execute(circ, backend)\n",
    "result = job.result()\n",
    "state_vector = result.get_statevector()\n",
    "\n",
    "# Print the statevector\n",
    "print(np.real(state_vector))"
   ]
  },
  {
   "cell_type": "code",
   "execution_count": null,
   "id": "c0e89d59",
   "metadata": {},
   "outputs": [],
   "source": [
    "circ = QuantumCircuit(4,2)\n",
    "circ.x(3)\n",
    "circ.barrier()\n",
    "circ.h(1)\n",
    "circ.h(2)\n",
    "circ.barrier()\n",
    "circ.cu(pi/2, -pi/2, pi/2, 3*pi/4, 1, 3)\n",
    "circ.cu(pi, pi, 0, 0, 2 ,3)\n",
    "circ.barrier()\n",
    "circ.h(2)\n",
    "circ.cp(-pi/2,1,2)\n",
    "circ.h(1)\n",
    "circ.swap(1,2)\n",
    "circ.barrier()\n",
    "circ.cry(pi,1,0)\n",
    "circ.cry(pi/3,2,0)\n",
    "circ.barrier()\n",
    "circ.measure(0,0)\n",
    "circ.barrier()\n",
    "circ.swap(1,2)\n",
    "circ.h(1)\n",
    "circ.cp(pi/2,2,1)\n",
    "circ.h(2)\n",
    "circ.barrier()\n",
    "circ.cu(pi, pi, 0, 0, 2 ,3)\n",
    "circ.cu(pi/2, pi/2, -pi/2, -3*pi/4, 1, 3)\n",
    "circ.barrier()\n",
    "circ.h(1)\n",
    "circ.h(2)\n",
    "circ.barrier()\n",
    "circ.measure(3,1)\n",
    "circ.draw('mpl')"
   ]
  },
  {
   "cell_type": "code",
   "execution_count": null,
   "id": "6671ba35",
   "metadata": {},
   "outputs": [],
   "source": [
    "IBMQ.load_account()\n",
    "sh=1000\n",
    "provider = IBMQ.get_provider(hub = 'ibm-q')\n",
    "\n",
    "device = provider.get_backend('ibmq_qasm_simulator')\n",
    "\n",
    "job = execute(circ,backend = device,shots = sh)\n",
    "\n",
    "print(job.job_id())\n",
    "from qiskit.tools.monitor import job_monitor\n",
    "\n",
    "job_monitor(job)\n",
    "\n",
    "device_result = job.result()\n",
    "\n",
    "plot_histogram(device_result.get_counts(circ))"
   ]
  },
  {
   "cell_type": "code",
   "execution_count": null,
   "id": "086b5229",
   "metadata": {},
   "outputs": [],
   "source": [
    "res=device_result.get_counts(circ)\n",
    "print(\"P(0)=\"+str(res['01']/(sh-res['00']-res['10'])))\n",
    "print(\"P(1)=\"+str(res['11']/(sh-res['00']-res['10'])))"
   ]
  },
  {
   "cell_type": "code",
   "execution_count": null,
   "id": "74087ecd",
   "metadata": {},
   "outputs": [],
   "source": []
  }
 ],
 "metadata": {
  "kernelspec": {
   "display_name": "Python 3 (ipykernel)",
   "language": "python",
   "name": "python3"
  },
  "language_info": {
   "codemirror_mode": {
    "name": "ipython",
    "version": 3
   },
   "file_extension": ".py",
   "mimetype": "text/x-python",
   "name": "python",
   "nbconvert_exporter": "python",
   "pygments_lexer": "ipython3",
   "version": "3.10.9"
  }
 },
 "nbformat": 4,
 "nbformat_minor": 5
}
